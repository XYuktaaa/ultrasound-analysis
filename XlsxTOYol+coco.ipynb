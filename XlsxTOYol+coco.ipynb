{
 "cells": [
  {
   "cell_type": "code",
   "execution_count": 1,
   "id": "4dd2ba3e-660a-4632-a337-4c2efbe79994",
   "metadata": {},
   "outputs": [],
   "source": [
    "import pandas as pd\n",
    "import os\n",
    "import json\n"
   ]
  },
  {
   "cell_type": "code",
   "execution_count": 2,
   "id": "36e9d198-4519-420b-8fb8-7e4163c382e5",
   "metadata": {},
   "outputs": [],
   "source": [
    "xls_file = \"/home/yukta/devel/wip/AIML/ultrasound-analysis/data/annotations/ObjectDetection.xlsx\"  # Update path if necessary\n",
    "df = pd.read_excel(xls_file)\n"
   ]
  },
  {
   "cell_type": "code",
   "execution_count": 3,
   "id": "e96c5df7-e5d2-4851-97b1-9db587690bf9",
   "metadata": {},
   "outputs": [],
   "source": [
    "# Class mapping (adjust according to your dataset)\n",
    "class_mapping = {\n",
    "    \"thalami\": 0, \"midbrain\": 1, \"palate\": 2, \"4th ventricle\": 3,\n",
    "    \"cisterna magna\": 4, \"NT\": 5, \"nasal tip\": 6, \"nasal skin\": 7, \"nasal bone\": 8\n",
    "}"
   ]
  },
  {
   "cell_type": "code",
   "execution_count": 4,
   "id": "feef040d-1960-4f08-81da-e5cf52900411",
   "metadata": {},
   "outputs": [],
   "source": [
    "# YOLO annotations directory\n",
    "yolo_dir = \"yolo_labels\"\n",
    "os.makedirs(yolo_dir, exist_ok=True)"
   ]
  },
  {
   "cell_type": "code",
   "execution_count": 5,
   "id": "95cfe736-770b-45cf-b39a-3f99d221f4a0",
   "metadata": {},
   "outputs": [],
   "source": [
    "# COCO dataset structure\n",
    "coco_data = {\"images\": [], \"annotations\": [], \"categories\": []}\n",
    "image_id_map = {}\n",
    "annotation_id = 1"
   ]
  },
  {
   "cell_type": "code",
   "execution_count": 6,
   "id": "8242ac3d-cf9a-4d83-91f9-2246899476b3",
   "metadata": {},
   "outputs": [],
   "source": [
    "# Iterate through Excel rows\n",
    "for _, row in df.iterrows():\n",
    "    fname = row[\"fname\"]\n",
    "    structure = row[\"structure\"]\n",
    "    h_min, w_min, h_max, w_max = row[\"h_min\"], row[\"w_min\"], row[\"h_max\"], row[\"w_max\"]\n"
   ]
  },
  {
   "cell_type": "code",
   "execution_count": 7,
   "id": "e6f17eec-ef84-4044-844a-d1ef53264f86",
   "metadata": {},
   "outputs": [
    {
     "ename": "IndentationError",
     "evalue": "unexpected indent (4011954288.py, line 2)",
     "output_type": "error",
     "traceback": [
      "  \u001b[36mCell\u001b[39m\u001b[36m \u001b[39m\u001b[32mIn[7]\u001b[39m\u001b[32m, line 2\u001b[39m\n\u001b[31m    \u001b[39m\u001b[31mif fname not in image_id_map:\u001b[39m\n    ^\n\u001b[31mIndentationError\u001b[39m\u001b[31m:\u001b[39m unexpected indent\n"
     ]
    }
   ],
   "source": [
    " # Ensure image ID mapping\n",
    "    if fname not in image_id_map:\n",
    "        img_id = len(image_id_map) + 1\n",
    "        image_id_map[fname] = img_id\n",
    "        coco_data[\"images\"].append({\"id\": img_id, \"file_name\": fname, \"width\": 1024, \"height\": 1024})  # Update actual dimensions\n",
    "\n",
    "    img_id = image_id_map[fname]\n",
    "    class_id = class_mapping.get(structure, -1)\n",
    "    if class_id == -1:\n",
    "        continue  # Skip unknown classes"
   ]
  },
  {
   "cell_type": "code",
   "execution_count": 8,
   "id": "21bed9d5-a677-4888-ae3c-a93033b3fe38",
   "metadata": {},
   "outputs": [
    {
     "ename": "IndentationError",
     "evalue": "unexpected indent (1664169180.py, line 2)",
     "output_type": "error",
     "traceback": [
      "  \u001b[36mCell\u001b[39m\u001b[36m \u001b[39m\u001b[32mIn[8]\u001b[39m\u001b[32m, line 2\u001b[39m\n\u001b[31m    \u001b[39m\u001b[31mx_center = (w_min + w_max) / (2 * 1024)  # Assuming 1024x1024 images\u001b[39m\n    ^\n\u001b[31mIndentationError\u001b[39m\u001b[31m:\u001b[39m unexpected indent\n"
     ]
    }
   ],
   "source": [
    " # Normalize YOLO bbox\n",
    "    x_center = (w_min + w_max) / (2 * 1024)  # Assuming 1024x1024 images\n",
    "    y_center = (h_min + h_max) / (2 * 1024)\n",
    "    width = (w_max - w_min) / 1024\n",
    "    height = (h_max - h_min) / 1024"
   ]
  },
  {
   "cell_type": "code",
   "execution_count": 9,
   "id": "4796ef4a-32c8-4910-9f8e-258208362c85",
   "metadata": {},
   "outputs": [
    {
     "ename": "IndentationError",
     "evalue": "unexpected indent (2053029937.py, line 2)",
     "output_type": "error",
     "traceback": [
      "  \u001b[36mCell\u001b[39m\u001b[36m \u001b[39m\u001b[32mIn[9]\u001b[39m\u001b[32m, line 2\u001b[39m\n\u001b[31m    \u001b[39m\u001b[31myolo_txt_path = os.path.join(yolo_dir, fname.replace(\".png\", \".txt\"))\u001b[39m\n    ^\n\u001b[31mIndentationError\u001b[39m\u001b[31m:\u001b[39m unexpected indent\n"
     ]
    }
   ],
   "source": [
    " # Save YOLO annotation\n",
    "    yolo_txt_path = os.path.join(yolo_dir, fname.replace(\".png\", \".txt\"))\n",
    "    with open(yolo_txt_path, \"a\") as f:\n",
    "        f.write(f\"{class_id} {x_center} {y_center} {width} {height}\\n\")"
   ]
  },
  {
   "cell_type": "code",
   "execution_count": 10,
   "id": "58dd290a-51eb-46b6-8aa9-a835b7905474",
   "metadata": {},
   "outputs": [
    {
     "ename": "IndentationError",
     "evalue": "unexpected indent (570254310.py, line 2)",
     "output_type": "error",
     "traceback": [
      "  \u001b[36mCell\u001b[39m\u001b[36m \u001b[39m\u001b[32mIn[10]\u001b[39m\u001b[32m, line 2\u001b[39m\n\u001b[31m    \u001b[39m\u001b[31mcoco_bbox = [w_min, h_min, w_max - w_min, h_max - h_min]\u001b[39m\n    ^\n\u001b[31mIndentationError\u001b[39m\u001b[31m:\u001b[39m unexpected indent\n"
     ]
    }
   ],
   "source": [
    "# COCO bbox (absolute)\n",
    "    coco_bbox = [w_min, h_min, w_max - w_min, h_max - h_min]\n",
    "    coco_data[\"annotations\"].append({\n",
    "        \"id\": annotation_id,\n",
    "        \"image_id\": img_id,\n",
    "        \"category_id\": class_id,\n",
    "        \"bbox\": coco_bbox,\n",
    "        \"area\": (w_max - w_min) * (h_max - h_min),\n",
    "        \"iscrowd\": 0\n",
    "    })\n",
    "    annotation_id += 1\n"
   ]
  },
  {
   "cell_type": "code",
   "execution_count": 11,
   "id": "6cac5799-4fe3-4ce5-a9be-911230368bd4",
   "metadata": {},
   "outputs": [],
   "source": [
    "# COCO categories\n",
    "coco_data[\"categories\"] = [{\"id\": v, \"name\": k} for k, v in class_mapping.items()]\n"
   ]
  },
  {
   "cell_type": "code",
   "execution_count": null,
   "id": "d01a9e19-d103-4f46-b753-e4ee97c32513",
   "metadata": {},
   "outputs": [],
   "source": [
    "# Save COCO JSON\n",
    "with open(\"annotations_coco.json\", \"w\") as f:\n",
    "    json.dump(coco_data, f, indent=4)\n",
    "\n",
    "print(\"✅ YOLO labels saved in:\", yolo_dir)\n",
    "print(\"✅ COCO annotations saved as: annotations_coco.json\")"
   ]
  }
 ],
 "metadata": {
  "kernelspec": {
   "display_name": "Python 3 (ipykernel)",
   "language": "python",
   "name": "python3"
  },
  "language_info": {
   "codemirror_mode": {
    "name": "ipython",
    "version": 3
   },
   "file_extension": ".py",
   "mimetype": "text/x-python",
   "name": "python",
   "nbconvert_exporter": "python",
   "pygments_lexer": "ipython3",
   "version": "3.13.2"
  }
 },
 "nbformat": 4,
 "nbformat_minor": 5
}
